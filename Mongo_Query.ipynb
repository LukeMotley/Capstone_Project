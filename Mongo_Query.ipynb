{
 "cells": [
  {
   "cell_type": "code",
   "execution_count": null,
   "id": "75de72f4",
   "metadata": {},
   "outputs": [],
   "source": [
    "import pymongo\n",
    "import pandas as pd\n",
    "\n",
    "myclient = pymongo.MongoClient(\"mongodb://localhost:27017/\")\n",
    "mydb = myclient[\"Project_Gamestop\"]\n",
    "mycol = mydb[\"SentGME_Data\"]\n",
    "\n",
    "myquery = {\n",
    "           $lookup:\n",
    "              {\n",
    "             from: \"GME_Data\",\n",
    "             localField: \"date\",\n",
    "             foreignField: \"date\",\n",
    "             as: \"GMEStock\"\n",
    "              }\n",
    "}\n",
    "\n",
    "mydoc = mycol.find(myquery)\n",
    "\n",
    "for x in mydoc:\n",
    "  print(x)"
   ]
  },
  {
   "cell_type": "code",
   "execution_count": null,
   "id": "e753a7fe",
   "metadata": {},
   "outputs": [],
   "source": [
    "data_panda = pd.DataFrame(list(mydoc))"
   ]
  }
 ],
 "metadata": {
  "kernelspec": {
   "display_name": "Python 3",
   "language": "python",
   "name": "python3"
  },
  "language_info": {
   "codemirror_mode": {
    "name": "ipython",
    "version": 3
   },
   "file_extension": ".py",
   "mimetype": "text/x-python",
   "name": "python",
   "nbconvert_exporter": "python",
   "pygments_lexer": "ipython3",
   "version": "3.7.10"
  }
 },
 "nbformat": 4,
 "nbformat_minor": 5
}
