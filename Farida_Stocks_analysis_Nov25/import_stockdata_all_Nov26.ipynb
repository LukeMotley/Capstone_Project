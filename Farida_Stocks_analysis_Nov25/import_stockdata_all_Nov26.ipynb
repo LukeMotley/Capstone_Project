{
 "cells": [
  {
   "cell_type": "markdown",
   "id": "b665bce4",
   "metadata": {},
   "source": [
    "#### This analysis takes information from the article referenced by David , \"In 12 minutes: Stocks Analysis with Pandas and Scikit-Learn\". The website is: https://towardsdatascience.com/in-12-minutes-stocks-analysis-with-pandas-and-scikit-learn-a8d8a7b50ee7"
   ]
  },
  {
   "cell_type": "code",
   "execution_count": 1,
   "id": "e85ab4c6",
   "metadata": {},
   "outputs": [],
   "source": [
    "# Import the initial imports\n",
    "import pandas as pd\n",
    "import datetime\n",
    "import pandas_datareader.data as pdr\n",
    "import yfinance as yf\n",
    "from yahoofinancials import YahooFinancials"
   ]
  },
  {
   "cell_type": "code",
   "execution_count": 2,
   "id": "45f6d0ff",
   "metadata": {},
   "outputs": [],
   "source": [
    "# Define Start and End date variables\n",
    "start_time = datetime.datetime(2020, 1, 1)\n",
    "end_time = datetime.datetime(2020, 11, 1)"
   ]
  },
  {
   "cell_type": "markdown",
   "id": "8a518d57",
   "metadata": {},
   "source": [
    "#### Import the meme stocks"
   ]
  },
  {
   "cell_type": "code",
   "execution_count": 3,
   "id": "8216795b",
   "metadata": {},
   "outputs": [],
   "source": [
    "GME_df = yf.download('Mara', start_time, end_time, progress=False)\n",
    "AMC_df = yf.download('AMC', start_time, end_time, progress=False)\n",
    "BBBY_df = yf.download('BBBY', start_time, end_time, progress=False)"
   ]
  },
  {
   "cell_type": "markdown",
   "id": "6b3074c2",
   "metadata": {},
   "source": [
    "#### Import other stocks"
   ]
  },
  {
   "cell_type": "code",
   "execution_count": 4,
   "id": "f66a273b",
   "metadata": {},
   "outputs": [],
   "source": [
    "EA_df = yf.download('EA', start_time, end_time, progress=False)\n",
    "MARA_df = yf.download('MARA', start_time, end_time, progress=False)\n",
    "SONY_df = yf.download('SONY', start_time, end_time, progress=False)"
   ]
  },
  {
   "cell_type": "code",
   "execution_count": 5,
   "id": "67957ac4",
   "metadata": {},
   "outputs": [],
   "source": [
    "MSFT_df = yf.download('MSFT', start_time, end_time, progress=False)\n",
    "AXP_df = yf.download('AXP', start_time, end_time, progress=False)\n",
    "DIS_df = yf.download('DIS', start_time, end_time, progress=False)"
   ]
  },
  {
   "cell_type": "markdown",
   "id": "eb54b67d",
   "metadata": {},
   "source": [
    "#### Import the index stocks"
   ]
  },
  {
   "cell_type": "code",
   "execution_count": 7,
   "id": "5c505d30",
   "metadata": {},
   "outputs": [
    {
     "data": {
      "text/html": [
       "<div>\n",
       "<style scoped>\n",
       "    .dataframe tbody tr th:only-of-type {\n",
       "        vertical-align: middle;\n",
       "    }\n",
       "\n",
       "    .dataframe tbody tr th {\n",
       "        vertical-align: top;\n",
       "    }\n",
       "\n",
       "    .dataframe thead th {\n",
       "        text-align: right;\n",
       "    }\n",
       "</style>\n",
       "<table border=\"1\" class=\"dataframe\">\n",
       "  <thead>\n",
       "    <tr style=\"text-align: right;\">\n",
       "      <th></th>\n",
       "      <th>Open</th>\n",
       "      <th>High</th>\n",
       "      <th>Low</th>\n",
       "      <th>Close</th>\n",
       "      <th>Adj Close</th>\n",
       "      <th>Volume</th>\n",
       "    </tr>\n",
       "    <tr>\n",
       "      <th>Date</th>\n",
       "      <th></th>\n",
       "      <th></th>\n",
       "      <th></th>\n",
       "      <th></th>\n",
       "      <th></th>\n",
       "      <th></th>\n",
       "    </tr>\n",
       "  </thead>\n",
       "  <tbody>\n",
       "    <tr>\n",
       "      <th>2020-01-02</th>\n",
       "      <td>297.290009</td>\n",
       "      <td>298.450012</td>\n",
       "      <td>296.339996</td>\n",
       "      <td>298.420013</td>\n",
       "      <td>290.068848</td>\n",
       "      <td>3142400</td>\n",
       "    </tr>\n",
       "    <tr>\n",
       "      <th>2020-01-03</th>\n",
       "      <td>295.220001</td>\n",
       "      <td>297.359985</td>\n",
       "      <td>295.040009</td>\n",
       "      <td>296.239990</td>\n",
       "      <td>287.949860</td>\n",
       "      <td>3247900</td>\n",
       "    </tr>\n",
       "    <tr>\n",
       "      <th>2020-01-06</th>\n",
       "      <td>294.420013</td>\n",
       "      <td>297.420013</td>\n",
       "      <td>294.350006</td>\n",
       "      <td>297.350006</td>\n",
       "      <td>289.028839</td>\n",
       "      <td>2777100</td>\n",
       "    </tr>\n",
       "    <tr>\n",
       "      <th>2020-01-07</th>\n",
       "      <td>296.820007</td>\n",
       "      <td>297.269989</td>\n",
       "      <td>296.059998</td>\n",
       "      <td>296.529999</td>\n",
       "      <td>288.231720</td>\n",
       "      <td>2251800</td>\n",
       "    </tr>\n",
       "    <tr>\n",
       "      <th>2020-01-08</th>\n",
       "      <td>296.709991</td>\n",
       "      <td>299.309998</td>\n",
       "      <td>296.470001</td>\n",
       "      <td>298.059998</td>\n",
       "      <td>289.718933</td>\n",
       "      <td>3719500</td>\n",
       "    </tr>\n",
       "  </tbody>\n",
       "</table>\n",
       "</div>"
      ],
      "text/plain": [
       "                  Open        High         Low       Close   Adj Close  \\\n",
       "Date                                                                     \n",
       "2020-01-02  297.290009  298.450012  296.339996  298.420013  290.068848   \n",
       "2020-01-03  295.220001  297.359985  295.040009  296.239990  287.949860   \n",
       "2020-01-06  294.420013  297.420013  294.350006  297.350006  289.028839   \n",
       "2020-01-07  296.820007  297.269989  296.059998  296.529999  288.231720   \n",
       "2020-01-08  296.709991  299.309998  296.470001  298.059998  289.718933   \n",
       "\n",
       "             Volume  \n",
       "Date                 \n",
       "2020-01-02  3142400  \n",
       "2020-01-03  3247900  \n",
       "2020-01-06  2777100  \n",
       "2020-01-07  2251800  \n",
       "2020-01-08  3719500  "
      ]
     },
     "execution_count": 7,
     "metadata": {},
     "output_type": "execute_result"
    }
   ],
   "source": [
    "VOO_df = yf.download('VOO', start_time, end_time, progress=False)\n",
    "VOO_df.head()"
   ]
  },
  {
   "cell_type": "code",
   "execution_count": 8,
   "id": "0acc3a43",
   "metadata": {},
   "outputs": [],
   "source": [
    "# Make a \"Ticker\" column for combining the stocks\n",
    "GME_df[\"Ticker\"] = \"GME\"\n",
    "AMC_df[\"Ticker\"] = \"AMC\"\n",
    "BBBY_df[\"Ticker\"] = \"BBBY\"\n",
    "EA_df[\"Ticker\"] = \"EA\"\n",
    "MARA_df[\"Ticker\"] = \"MARA\"\n",
    "SONY_df[\"Ticker\"] = \"SONY\"\n",
    "MSFT_df[\"Ticker\"] = \"MSFT\"\n",
    "AXP_df[\"Ticker\"] = \"AXP\"\n",
    "DIS_df[\"Ticker\"] = \"DIS\"\n",
    "VOO_df[\"Ticker\"] = \"VOO\""
   ]
  },
  {
   "cell_type": "code",
   "execution_count": 9,
   "id": "067158f3",
   "metadata": {},
   "outputs": [
    {
     "data": {
      "text/html": [
       "<div>\n",
       "<style scoped>\n",
       "    .dataframe tbody tr th:only-of-type {\n",
       "        vertical-align: middle;\n",
       "    }\n",
       "\n",
       "    .dataframe tbody tr th {\n",
       "        vertical-align: top;\n",
       "    }\n",
       "\n",
       "    .dataframe thead th {\n",
       "        text-align: right;\n",
       "    }\n",
       "</style>\n",
       "<table border=\"1\" class=\"dataframe\">\n",
       "  <thead>\n",
       "    <tr style=\"text-align: right;\">\n",
       "      <th></th>\n",
       "      <th>Open</th>\n",
       "      <th>High</th>\n",
       "      <th>Low</th>\n",
       "      <th>Close</th>\n",
       "      <th>Adj Close</th>\n",
       "      <th>Volume</th>\n",
       "      <th>Ticker</th>\n",
       "      <th>Net_Close</th>\n",
       "      <th>Net_High</th>\n",
       "    </tr>\n",
       "    <tr>\n",
       "      <th>Date</th>\n",
       "      <th></th>\n",
       "      <th></th>\n",
       "      <th></th>\n",
       "      <th></th>\n",
       "      <th></th>\n",
       "      <th></th>\n",
       "      <th></th>\n",
       "      <th></th>\n",
       "      <th></th>\n",
       "    </tr>\n",
       "  </thead>\n",
       "  <tbody>\n",
       "    <tr>\n",
       "      <th>2020-01-02</th>\n",
       "      <td>0.88</td>\n",
       "      <td>1.08</td>\n",
       "      <td>0.88</td>\n",
       "      <td>1.05</td>\n",
       "      <td>1.05</td>\n",
       "      <td>447600</td>\n",
       "      <td>GME</td>\n",
       "      <td>0.17</td>\n",
       "      <td>0.20</td>\n",
       "    </tr>\n",
       "    <tr>\n",
       "      <th>2020-01-03</th>\n",
       "      <td>0.99</td>\n",
       "      <td>1.00</td>\n",
       "      <td>0.93</td>\n",
       "      <td>0.96</td>\n",
       "      <td>0.96</td>\n",
       "      <td>128000</td>\n",
       "      <td>GME</td>\n",
       "      <td>-0.03</td>\n",
       "      <td>0.01</td>\n",
       "    </tr>\n",
       "    <tr>\n",
       "      <th>2020-01-06</th>\n",
       "      <td>0.96</td>\n",
       "      <td>1.06</td>\n",
       "      <td>0.96</td>\n",
       "      <td>0.97</td>\n",
       "      <td>0.97</td>\n",
       "      <td>192100</td>\n",
       "      <td>GME</td>\n",
       "      <td>0.01</td>\n",
       "      <td>0.10</td>\n",
       "    </tr>\n",
       "    <tr>\n",
       "      <th>2020-01-07</th>\n",
       "      <td>0.98</td>\n",
       "      <td>1.12</td>\n",
       "      <td>0.98</td>\n",
       "      <td>1.09</td>\n",
       "      <td>1.09</td>\n",
       "      <td>1039100</td>\n",
       "      <td>GME</td>\n",
       "      <td>0.11</td>\n",
       "      <td>0.14</td>\n",
       "    </tr>\n",
       "    <tr>\n",
       "      <th>2020-01-08</th>\n",
       "      <td>1.13</td>\n",
       "      <td>1.13</td>\n",
       "      <td>0.92</td>\n",
       "      <td>0.95</td>\n",
       "      <td>0.95</td>\n",
       "      <td>487700</td>\n",
       "      <td>GME</td>\n",
       "      <td>-0.18</td>\n",
       "      <td>0.00</td>\n",
       "    </tr>\n",
       "  </tbody>\n",
       "</table>\n",
       "</div>"
      ],
      "text/plain": [
       "            Open  High   Low  Close  Adj Close   Volume Ticker  Net_Close  \\\n",
       "Date                                                                        \n",
       "2020-01-02  0.88  1.08  0.88   1.05       1.05   447600    GME       0.17   \n",
       "2020-01-03  0.99  1.00  0.93   0.96       0.96   128000    GME      -0.03   \n",
       "2020-01-06  0.96  1.06  0.96   0.97       0.97   192100    GME       0.01   \n",
       "2020-01-07  0.98  1.12  0.98   1.09       1.09  1039100    GME       0.11   \n",
       "2020-01-08  1.13  1.13  0.92   0.95       0.95   487700    GME      -0.18   \n",
       "\n",
       "            Net_High  \n",
       "Date                  \n",
       "2020-01-02      0.20  \n",
       "2020-01-03      0.01  \n",
       "2020-01-06      0.10  \n",
       "2020-01-07      0.14  \n",
       "2020-01-08      0.00  "
      ]
     },
     "execution_count": 9,
     "metadata": {},
     "output_type": "execute_result"
    }
   ],
   "source": [
    "stocks_all = [GME_df, AMC_df, BBBY_df, VOO_df, EA_df, MARA_df, SONY_df, MSFT_df, AXP_df, DIS_df]\n",
    "combined_stocks = pd.concat(stocks_all)\n",
    "combined_stocks[\"Net_Close\"] = combined_stocks[\"Adj Close\"] - combined_stocks[\"Open\"]\n",
    "combined_stocks[\"Net_High\"] = combined_stocks[\"High\"] - combined_stocks[\"Open\"]\n",
    "combined_stocks.head()"
   ]
  },
  {
   "cell_type": "code",
   "execution_count": 10,
   "id": "f212dde2",
   "metadata": {},
   "outputs": [],
   "source": [
    "combined_stocks.to_csv(\"combined_stocks_all.csv\")"
   ]
  }
 ],
 "metadata": {
  "kernelspec": {
   "display_name": "PythonData",
   "language": "python",
   "name": "pythondata"
  },
  "language_info": {
   "codemirror_mode": {
    "name": "ipython",
    "version": 3
   },
   "file_extension": ".py",
   "mimetype": "text/x-python",
   "name": "python",
   "nbconvert_exporter": "python",
   "pygments_lexer": "ipython3",
   "version": "3.7.10"
  }
 },
 "nbformat": 4,
 "nbformat_minor": 5
}
