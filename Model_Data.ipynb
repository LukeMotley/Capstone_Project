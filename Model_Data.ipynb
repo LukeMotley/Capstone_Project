{
 "cells": [
  {
   "cell_type": "markdown",
   "id": "eba6709b",
   "metadata": {},
   "source": [
    "## Prep"
   ]
  },
  {
   "cell_type": "code",
   "execution_count": 1,
   "id": "66e896c7",
   "metadata": {},
   "outputs": [],
   "source": [
    "# Import dependencies\n",
    "import tweepy\n",
    "import pandas as pd\n",
    "import API_Keys"
   ]
  },
  {
   "cell_type": "code",
   "execution_count": 2,
   "id": "f3e9ffef",
   "metadata": {},
   "outputs": [],
   "source": [
    "# Import API Keys\n",
    "consumer_key = API_Keys.consumer_key\n",
    "consumer_secret = API_Keys.consumer_secret\n",
    "access_token = API_Keys.access_token\n",
    "access_token_secret = API_Keys.access_token_secret"
   ]
  },
  {
   "cell_type": "code",
   "execution_count": 3,
   "id": "eaa22c88",
   "metadata": {},
   "outputs": [],
   "source": [
    "# Building the API\n",
    "auth = tweepy.OAuthHandler(consumer_key, consumer_secret)\n",
    "auth.set_access_token(access_token,access_token_secret)\n",
    "api=tweepy.API(auth)"
   ]
  },
  {
   "cell_type": "markdown",
   "id": "3442a97f",
   "metadata": {},
   "source": [
    "## Pulling User and or word"
   ]
  },
  {
   "cell_type": "code",
   "execution_count": null,
   "id": "88db4e8b",
   "metadata": {},
   "outputs": [],
   "source": [
    "# Searching for specific name\n",
    "cursor = tweepy.Cursor(api.user_timeline, id = \"ElonMusk\", tweet_mode=\"extended\").items(5)"
   ]
  },
  {
   "cell_type": "code",
   "execution_count": null,
   "id": "2855bf5a",
   "metadata": {},
   "outputs": [],
   "source": [
    "cursor = tweepy.Cursor(api.search_tweets, q=\"Bitcoin\", tweet_mode=\"extended\").items(100)"
   ]
  },
  {
   "cell_type": "code",
   "execution_count": null,
   "id": "1042874e",
   "metadata": {},
   "outputs": [],
   "source": [
    "for i in cursor:\n",
    "    print(i.full_text)"
   ]
  },
  {
   "cell_type": "markdown",
   "id": "595bc23d",
   "metadata": {},
   "source": [
    "## Analyze"
   ]
  },
  {
   "cell_type": "code",
   "execution_count": 4,
   "id": "890ca809",
   "metadata": {},
   "outputs": [],
   "source": [
    "number_of_tweets = 200\n",
    "tweets = []\n",
    "likes = []\n",
    "time = []\n",
    "\n",
    "for i in tweepy.Cursor(api.search_tweets, q=\"Bitcoin\", tweet_mode=\"extended\").items(number_of_tweets):\n",
    "    tweets.append(i.full_text)\n",
    "    likes.append(i.favorite_count)\n",
    "    time.append(i.created_at)"
   ]
  },
  {
   "cell_type": "code",
   "execution_count": 5,
   "id": "c8c2df7c",
   "metadata": {},
   "outputs": [
    {
     "data": {
      "text/html": [
       "<div>\n",
       "<style scoped>\n",
       "    .dataframe tbody tr th:only-of-type {\n",
       "        vertical-align: middle;\n",
       "    }\n",
       "\n",
       "    .dataframe tbody tr th {\n",
       "        vertical-align: top;\n",
       "    }\n",
       "\n",
       "    .dataframe thead th {\n",
       "        text-align: right;\n",
       "    }\n",
       "</style>\n",
       "<table border=\"1\" class=\"dataframe\">\n",
       "  <thead>\n",
       "    <tr style=\"text-align: right;\">\n",
       "      <th></th>\n",
       "      <th>tweets</th>\n",
       "      <th>likes</th>\n",
       "      <th>time</th>\n",
       "    </tr>\n",
       "  </thead>\n",
       "  <tbody>\n",
       "    <tr>\n",
       "      <th>0</th>\n",
       "      <td>https://t.co/aFLxUDwqGs #dragonball #dragonbal...</td>\n",
       "      <td>0</td>\n",
       "      <td>2021-11-15 21:03:20+00:00</td>\n",
       "    </tr>\n",
       "    <tr>\n",
       "      <th>1</th>\n",
       "      <td>mfw #bitcoin-ers talk about consumption tax be...</td>\n",
       "      <td>0</td>\n",
       "      <td>2021-11-15 21:03:20+00:00</td>\n",
       "    </tr>\n",
       "    <tr>\n",
       "      <th>2</th>\n",
       "      <td>NFTs are about to go crazy you can feel it in ...</td>\n",
       "      <td>0</td>\n",
       "      <td>2021-11-15 21:03:20+00:00</td>\n",
       "    </tr>\n",
       "    <tr>\n",
       "      <th>3</th>\n",
       "      <td>RT @da_renn4: Banks in #ElSalvador are way ahe...</td>\n",
       "      <td>0</td>\n",
       "      <td>2021-11-15 21:03:20+00:00</td>\n",
       "    </tr>\n",
       "    <tr>\n",
       "      <th>4</th>\n",
       "      <td>RT @alperenkik: #Çekiliş 💸 💸\\n\\n3 arkadaşıma 1...</td>\n",
       "      <td>0</td>\n",
       "      <td>2021-11-15 21:03:20+00:00</td>\n",
       "    </tr>\n",
       "    <tr>\n",
       "      <th>...</th>\n",
       "      <td>...</td>\n",
       "      <td>...</td>\n",
       "      <td>...</td>\n",
       "    </tr>\n",
       "    <tr>\n",
       "      <th>195</th>\n",
       "      <td>RT @InvestWithDiego: @nypost I think @coinbase...</td>\n",
       "      <td>0</td>\n",
       "      <td>2021-11-15 21:02:33+00:00</td>\n",
       "    </tr>\n",
       "    <tr>\n",
       "      <th>196</th>\n",
       "      <td>RT @AirdropStario: 💧 ShibaGalaxy Airdrop 💧\\n\\n...</td>\n",
       "      <td>0</td>\n",
       "      <td>2021-11-15 21:02:33+00:00</td>\n",
       "    </tr>\n",
       "    <tr>\n",
       "      <th>197</th>\n",
       "      <td>RT @coin_mining1: $25000 #Bitcoin To A Random ...</td>\n",
       "      <td>0</td>\n",
       "      <td>2021-11-15 21:02:33+00:00</td>\n",
       "    </tr>\n",
       "    <tr>\n",
       "      <th>198</th>\n",
       "      <td>RT @InvestWithDiego: @saikokomonZ9 @MichaelWeh...</td>\n",
       "      <td>0</td>\n",
       "      <td>2021-11-15 21:02:33+00:00</td>\n",
       "    </tr>\n",
       "    <tr>\n",
       "      <th>199</th>\n",
       "      <td>RT @negrunch: Al fin hemos llegado a la meca b...</td>\n",
       "      <td>0</td>\n",
       "      <td>2021-11-15 21:02:33+00:00</td>\n",
       "    </tr>\n",
       "  </tbody>\n",
       "</table>\n",
       "<p>200 rows × 3 columns</p>\n",
       "</div>"
      ],
      "text/plain": [
       "                                                tweets  likes  \\\n",
       "0    https://t.co/aFLxUDwqGs #dragonball #dragonbal...      0   \n",
       "1    mfw #bitcoin-ers talk about consumption tax be...      0   \n",
       "2    NFTs are about to go crazy you can feel it in ...      0   \n",
       "3    RT @da_renn4: Banks in #ElSalvador are way ahe...      0   \n",
       "4    RT @alperenkik: #Çekiliş 💸 💸\\n\\n3 arkadaşıma 1...      0   \n",
       "..                                                 ...    ...   \n",
       "195  RT @InvestWithDiego: @nypost I think @coinbase...      0   \n",
       "196  RT @AirdropStario: 💧 ShibaGalaxy Airdrop 💧\\n\\n...      0   \n",
       "197  RT @coin_mining1: $25000 #Bitcoin To A Random ...      0   \n",
       "198  RT @InvestWithDiego: @saikokomonZ9 @MichaelWeh...      0   \n",
       "199  RT @negrunch: Al fin hemos llegado a la meca b...      0   \n",
       "\n",
       "                         time  \n",
       "0   2021-11-15 21:03:20+00:00  \n",
       "1   2021-11-15 21:03:20+00:00  \n",
       "2   2021-11-15 21:03:20+00:00  \n",
       "3   2021-11-15 21:03:20+00:00  \n",
       "4   2021-11-15 21:03:20+00:00  \n",
       "..                        ...  \n",
       "195 2021-11-15 21:02:33+00:00  \n",
       "196 2021-11-15 21:02:33+00:00  \n",
       "197 2021-11-15 21:02:33+00:00  \n",
       "198 2021-11-15 21:02:33+00:00  \n",
       "199 2021-11-15 21:02:33+00:00  \n",
       "\n",
       "[200 rows x 3 columns]"
      ]
     },
     "execution_count": 5,
     "metadata": {},
     "output_type": "execute_result"
    }
   ],
   "source": [
    "df = pd.DataFrame({'tweets':tweets, \"likes\":likes, \"time\":time})\n",
    "df"
   ]
  },
  {
   "cell_type": "code",
   "execution_count": 7,
   "id": "34cd5944",
   "metadata": {},
   "outputs": [],
   "source": [
    "df.to_csv(\"Model_Data_Bitcoin_Keyword.csv\")"
   ]
  },
  {
   "cell_type": "code",
   "execution_count": null,
   "id": "28b04098",
   "metadata": {},
   "outputs": [],
   "source": [
    "# Notes for further creation:\n",
    "# for loop to create multiple df and csv files for analysis\n",
    "# See if it is possible to parse sentiment of other words in the tweet\n",
    "#     That might be a data cleaning problem"
   ]
  }
 ],
 "metadata": {
  "kernelspec": {
   "display_name": "PythonData",
   "language": "python",
   "name": "pythondata"
  },
  "language_info": {
   "codemirror_mode": {
    "name": "ipython",
    "version": 3
   },
   "file_extension": ".py",
   "mimetype": "text/x-python",
   "name": "python",
   "nbconvert_exporter": "python",
   "pygments_lexer": "ipython3",
   "version": "3.7.10"
  }
 },
 "nbformat": 4,
 "nbformat_minor": 5
}
